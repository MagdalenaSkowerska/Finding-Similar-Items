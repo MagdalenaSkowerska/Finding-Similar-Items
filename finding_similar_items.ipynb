{
  "cells": [
    {
      "cell_type": "markdown",
      "metadata": {
        "id": "view-in-github",
        "colab_type": "text"
      },
      "source": [
        "<a href=\"https://colab.research.google.com/github/MagdalenaSkowerska/Finding-Similar-Items-/blob/main/finding_similar_items.ipynb\" target=\"_parent\"><img src=\"https://colab.research.google.com/assets/colab-badge.svg\" alt=\"Open In Colab\"/></a>"
      ]
    },
    {
      "cell_type": "markdown",
      "metadata": {
        "id": "Y6jtePxQ2Tvq"
      },
      "source": [
        "# Importing libraries and the data"
      ]
    },
    {
      "cell_type": "code",
      "execution_count": null,
      "metadata": {
        "id": "7Tclui_8nOI0"
      },
      "outputs": [],
      "source": [
        "from google.colab import files\n",
        "files.upload()\n"
      ]
    },
    {
      "cell_type": "code",
      "execution_count": null,
      "metadata": {
        "id": "R0ta4ja3sRbK"
      },
      "outputs": [],
      "source": [
        "!pip install -q kaggle\n",
        "!mkdir -p ~/.kaggle\n",
        "!cp kaggle.json ~/.kaggle/\n",
        "!ls ~/.kaggle"
      ]
    },
    {
      "cell_type": "code",
      "execution_count": null,
      "metadata": {
        "id": "y7baDjCdrvvy"
      },
      "outputs": [],
      "source": [
        "!kaggle datasets download -d asaniczka/1-3m-linkedin-jobs-and-skills-2024\n"
      ]
    },
    {
      "cell_type": "code",
      "execution_count": null,
      "metadata": {
        "id": "yMZ-CdvywRYB"
      },
      "outputs": [],
      "source": [
        "!unzip 1-3m-linkedin-jobs-and-skills-2024.zip"
      ]
    },
    {
      "cell_type": "markdown",
      "metadata": {
        "id": "BxbayIzqTm0i"
      },
      "source": [
        "### Install libraries"
      ]
    },
    {
      "cell_type": "code",
      "execution_count": null,
      "metadata": {
        "id": "Wkt1gb5jTqNC"
      },
      "outputs": [],
      "source": [
        "!pip install datasketch"
      ]
    },
    {
      "cell_type": "code",
      "execution_count": null,
      "metadata": {
        "id": "zee9u25-zTU-"
      },
      "outputs": [],
      "source": [
        "!pip install pyspark"
      ]
    },
    {
      "cell_type": "markdown",
      "metadata": {
        "id": "5O4cxR6n3MaA"
      },
      "source": [
        "### Import libraries"
      ]
    },
    {
      "cell_type": "code",
      "execution_count": 50,
      "metadata": {
        "id": "x-P5XJfZ3QrH"
      },
      "outputs": [],
      "source": [
        "import re\n",
        "import numpy as np\n",
        "import pandas as pd\n",
        "from sklearn.feature_extraction.text import TfidfVectorizer\n",
        "from sklearn.metrics.pairwise import cosine_similarity\n",
        "from datasketch import MinHash, MinHashLSH\n",
        "from sklearn.neighbors import NearestNeighbors\n",
        "import nltk\n",
        "from nltk.corpus import stopwords\n",
        "from pyspark.sql import SparkSession, functions as fun\n",
        "from pyspark.ml.feature import CountVectorizer, IDF\n",
        "from pyspark.ml.linalg import Vectors\n",
        "from pyspark.ml.feature import MinHashLSH as MLLSH\n",
        "import matplotlib.pyplot as plt\n",
        "from nltk.stem import PorterStemmer\n",
        "from nltk.stem import WordNetLemmatizer"
      ]
    },
    {
      "cell_type": "markdown",
      "metadata": {
        "id": "bNp8D7rCPkcD"
      },
      "source": [
        "### Importing stopwords list and wordnet"
      ]
    },
    {
      "cell_type": "code",
      "execution_count": null,
      "metadata": {
        "id": "lhz7j2DLoQzS"
      },
      "outputs": [],
      "source": [
        "nltk.download('stopwords')"
      ]
    },
    {
      "cell_type": "code",
      "execution_count": 52,
      "metadata": {
        "id": "35NKgoFfoMN8"
      },
      "outputs": [],
      "source": [
        "stop_words = stopwords.words('english')\n",
        "stop_words.append('non')"
      ]
    },
    {
      "cell_type": "code",
      "execution_count": 53,
      "metadata": {
        "id": "e2xAxOJZPrzJ",
        "colab": {
          "base_uri": "https://localhost:8080/"
        },
        "outputId": "b21cab46-e001-41ee-9e3a-6fd363521ab6"
      },
      "outputs": [
        {
          "output_type": "stream",
          "name": "stdout",
          "text": [
            "['i', 'me', 'my', 'myself', 'we', 'our', 'ours', 'ourselves', 'you', \"you're\", \"you've\", \"you'll\", \"you'd\", 'your', 'yours', 'yourself', 'yourselves', 'he', 'him', 'his', 'himself', 'she', \"she's\", 'her', 'hers', 'herself', 'it', \"it's\", 'its', 'itself', 'they', 'them', 'their', 'theirs', 'themselves', 'what', 'which', 'who', 'whom', 'this', 'that', \"that'll\", 'these', 'those', 'am', 'is', 'are', 'was', 'were', 'be', 'been', 'being', 'have', 'has', 'had', 'having', 'do', 'does', 'did', 'doing', 'a', 'an', 'the', 'and', 'but', 'if', 'or', 'because', 'as', 'until', 'while', 'of', 'at', 'by', 'for', 'with', 'about', 'against', 'between', 'into', 'through', 'during', 'before', 'after', 'above', 'below', 'to', 'from', 'up', 'down', 'in', 'out', 'on', 'off', 'over', 'under', 'again', 'further', 'then', 'once', 'here', 'there', 'when', 'where', 'why', 'how', 'all', 'any', 'both', 'each', 'few', 'more', 'most', 'other', 'some', 'such', 'no', 'nor', 'not', 'only', 'own', 'same', 'so', 'than', 'too', 'very', 's', 't', 'can', 'will', 'just', 'don', \"don't\", 'should', \"should've\", 'now', 'd', 'll', 'm', 'o', 're', 've', 'y', 'ain', 'aren', \"aren't\", 'couldn', \"couldn't\", 'didn', \"didn't\", 'doesn', \"doesn't\", 'hadn', \"hadn't\", 'hasn', \"hasn't\", 'haven', \"haven't\", 'isn', \"isn't\", 'ma', 'mightn', \"mightn't\", 'mustn', \"mustn't\", 'needn', \"needn't\", 'shan', \"shan't\", 'shouldn', \"shouldn't\", 'wasn', \"wasn't\", 'weren', \"weren't\", 'won', \"won't\", 'wouldn', \"wouldn't\", 'non']\n"
          ]
        }
      ],
      "source": [
        "print(stop_words)"
      ]
    },
    {
      "cell_type": "code",
      "source": [
        "nltk.download('wordnet')"
      ],
      "metadata": {
        "id": "KaVf3dYV8C-K"
      },
      "execution_count": null,
      "outputs": []
    },
    {
      "cell_type": "markdown",
      "metadata": {
        "id": "IaZqZtPZzAsB"
      },
      "source": [
        "### Setting up Spark  "
      ]
    },
    {
      "cell_type": "code",
      "execution_count": 55,
      "metadata": {
        "id": "XF2yGpiK-Ewq"
      },
      "outputs": [],
      "source": [
        "spark = SparkSession.builder.master(\"local[*]\").getOrCreate()\n",
        "spark.conf.set(\"spark.sql.repl.eagerEval.enabled\", True)\n",
        "sc = spark.sparkContext"
      ]
    },
    {
      "cell_type": "markdown",
      "metadata": {
        "id": "bR5WrWdIGMFM"
      },
      "source": [
        "### Uploading data from file"
      ]
    },
    {
      "cell_type": "code",
      "execution_count": 56,
      "metadata": {
        "id": "R6xyaSoB-VzN"
      },
      "outputs": [],
      "source": [
        "job_skills= spark.read.csv(\"job_skills.csv\", header=True, inferSchema=True)\n",
        "job_summary=spark.read.csv(\"job_summary.csv\", header=True, inferSchema=True, multiLine=True, quote='\"', escape='\\\"')\n",
        "linkedin_job_postings=spark.read.csv(\"linkedin_job_postings.csv\",header=True, inferSchema=True, multiLine=True)"
      ]
    },
    {
      "cell_type": "code",
      "execution_count": 57,
      "metadata": {
        "id": "cDE_y9Hx_fh_"
      },
      "outputs": [],
      "source": [
        "job_skills.createOrReplaceTempView(\"job_skills\")\n",
        "job_summary.createOrReplaceTempView(\"job_summary\")\n",
        "linkedin_job_postings.createOrReplaceTempView(\"linkedin_job_postings\")"
      ]
    },
    {
      "cell_type": "markdown",
      "metadata": {
        "id": "mPZgiyB7F2V-"
      },
      "source": [
        "# DATA CLEANING AND PREPROCESSING"
      ]
    },
    {
      "cell_type": "code",
      "execution_count": 58,
      "metadata": {
        "id": "l-1U648p_xfW",
        "colab": {
          "base_uri": "https://localhost:8080/"
        },
        "outputId": "0fa437fd-8dfe-45e5-8e0d-c5689c723c96"
      },
      "outputs": [
        {
          "output_type": "stream",
          "name": "stdout",
          "text": [
            "+--------------------+--------------------+\n",
            "|            job_link|          job_skills|\n",
            "+--------------------+--------------------+\n",
            "|https://www.linke...|Building Custodia...|\n",
            "|https://www.linke...|Customer service,...|\n",
            "|https://www.linke...|Applied Behavior ...|\n",
            "|https://www.linke...|Electrical Engine...|\n",
            "|https://www.linke...|Electrical Assemb...|\n",
            "|https://www.linke...|Access Control, V...|\n",
            "|https://www.linke...|Consultation, Sup...|\n",
            "|https://www.linke...|Veterinary Recept...|\n",
            "|https://www.linke...|Optical Inspectio...|\n",
            "|https://www.linke...|HVAC, troubleshoo...|\n",
            "+--------------------+--------------------+\n",
            "only showing top 10 rows\n",
            "\n"
          ]
        }
      ],
      "source": [
        "job_skills.show(10)"
      ]
    },
    {
      "cell_type": "code",
      "execution_count": 59,
      "metadata": {
        "id": "2dQygV4KABHO",
        "colab": {
          "base_uri": "https://localhost:8080/"
        },
        "outputId": "52c6a3df-e681-4ffd-8f4f-424673a64555"
      },
      "outputs": [
        {
          "output_type": "stream",
          "name": "stdout",
          "text": [
            "+--------------------+--------------------+\n",
            "|            job_link|         job_summary|\n",
            "+--------------------+--------------------+\n",
            "|https://www.linke...|Rock N Roll Sushi...|\n",
            "|https://www.linke...|Schedule\\n: PRN i...|\n",
            "|https://www.linke...|Description\\nIntr...|\n",
            "|https://uk.linked...|Commercial accoun...|\n",
            "|https://www.linke...|Address:\\nUSA-CT-...|\n",
            "|https://www.linke...|Description\\nOur\\...|\n",
            "|https://www.linke...|Company Descripti...|\n",
            "|https://uk.linked...|An exciting oppor...|\n",
            "|https://www.linke...|Job Details:\\nJob...|\n",
            "|https://www.linke...|Our\\nRestaurant T...|\n",
            "+--------------------+--------------------+\n",
            "only showing top 10 rows\n",
            "\n"
          ]
        }
      ],
      "source": [
        "job_summary.show(10)"
      ]
    },
    {
      "cell_type": "code",
      "execution_count": 60,
      "metadata": {
        "id": "bdUjM9tJADf5",
        "colab": {
          "base_uri": "https://localhost:8080/"
        },
        "outputId": "431f3e8d-e846-4e55-828f-5e8029e2e999"
      },
      "outputs": [
        {
          "output_type": "stream",
          "name": "stdout",
          "text": [
            "+--------------------+--------------------+-----------+-------+---------------+--------------------+--------------------+--------------------+----------+------------+--------------+--------------------+----------+--------+\n",
            "|            job_link| last_processed_time|got_summary|got_ner|is_being_worked|           job_title|             company|        job_location|first_seen| search_city|search_country|     search_position| job_level|job_type|\n",
            "+--------------------+--------------------+-----------+-------+---------------+--------------------+--------------------+--------------------+----------+------------+--------------+--------------------+----------+--------+\n",
            "|https://www.linke...|2024-01-21 07:12:...|          t|      t|              f|Account Executive...|                  BD|       San Diego, CA|2024-01-15|    Coronado| United States|         Color Maker|Mid senior|  Onsite|\n",
            "|https://www.linke...|2024-01-21 07:39:...|          t|      t|              f|Registered Nurse ...|   Trinity Health MI|   Norton Shores, MI|2024-01-14| Grand Haven| United States|Director Nursing ...|Mid senior|  Onsite|\n",
            "|https://www.linke...|2024-01-21 07:40:...|          t|      t|              f|RESTAURANT SUPERV...|Wasatch Adaptive ...|           Sandy, UT|2024-01-14|      Tooele| United States|            Stand-In|Mid senior|  Onsite|\n",
            "|https://www.linke...|2024-01-21 07:40:...|          t|      t|              f|Independent Real ...|Howard Hanna | Ra...|Englewood Cliffs, NJ|2024-01-16|   Pinehurst| United States|   Real-Estate Clerk|Mid senior|  Onsite|\n",
            "|https://www.linke...|2024-01-19 09:45:...|          f|      f|              f|Group/Unit Superv...|IRS, Office of Ch...|        Chamblee, GA|2024-01-17|     Gadsden| United States|Supervisor Travel...|Mid senior|  Onsite|\n",
            "|https://www.linke...|2024-01-19 09:45:...|          f|      f|              f|  Counselor-07532802|                 ICL|        Brooklyn, NY|2024-01-16|  Oyster Bay| United States| Residence Counselor|Mid senior|  Onsite|\n",
            "|https://www.linke...|2024-01-21 08:08:...|          t|      t|              f|Registered Nurse ...|   Trinity Health MI|        Muskegon, MI|2024-01-14|    Muskegon| United States|  Nurse Practitioner|Mid senior|  Onsite|\n",
            "|https://www.linke...|2024-01-21 08:08:...|          t|      t|              f|Part Time- HR Gen...|Creative Financia...|        New York, NY|2024-01-16|White Plains| United States|Human Resource Ad...|Mid senior|  Onsite|\n",
            "|https://uk.linked...|2024-01-21 08:08:...|          t|      t|              f|       Store Manager|          B&M Retail|London, England, ...|2024-01-15|      Slough|United Kingdom|              Double|Mid senior|  Onsite|\n",
            "|https://ca.linked...|2024-01-21 08:08:...|          t|      t|              f|Engineering Proje...|Shared Health-Soi...|Winnipeg, Manitob...|2024-01-14|    Manitoba|        Canada| Program Coordinator|Mid senior|  Onsite|\n",
            "+--------------------+--------------------+-----------+-------+---------------+--------------------+--------------------+--------------------+----------+------------+--------------+--------------------+----------+--------+\n",
            "only showing top 10 rows\n",
            "\n"
          ]
        }
      ],
      "source": [
        "linkedin_job_postings.show(10)"
      ]
    },
    {
      "cell_type": "markdown",
      "metadata": {
        "id": "Ct-yrZDNg3J-"
      },
      "source": [
        "### Counting null values"
      ]
    },
    {
      "cell_type": "code",
      "execution_count": 61,
      "metadata": {
        "id": "BTSGWEBne3HD",
        "colab": {
          "base_uri": "https://localhost:8080/"
        },
        "outputId": "7a7768be-2d2c-4762-939d-8970dcf27b79"
      },
      "outputs": [
        {
          "output_type": "stream",
          "name": "stdout",
          "text": [
            "The number of null values for the job_summary column is: 0\n"
          ]
        }
      ],
      "source": [
        "null_count = job_summary.filter(fun.col(\"job_summary\").isNull()).count()\n",
        "print(f\"The number of null values for the job_summary column is: {null_count}\")"
      ]
    },
    {
      "cell_type": "code",
      "execution_count": 62,
      "metadata": {
        "id": "ES569aGwab61",
        "colab": {
          "base_uri": "https://localhost:8080/"
        },
        "outputId": "855ff8c5-6263-497a-8a4d-0e66629022ad"
      },
      "outputs": [
        {
          "output_type": "stream",
          "name": "stdout",
          "text": [
            "The number of null values for the job_link column is: 0\n"
          ]
        }
      ],
      "source": [
        "null_count = job_summary.filter(fun.col(\"job_link\").isNull()).count()\n",
        "print(f\"The number of null values for the job_link column is: {null_count}\")"
      ]
    },
    {
      "cell_type": "markdown",
      "metadata": {
        "id": "V6DErPZAOvDm"
      },
      "source": [
        "### Counting distinct values"
      ]
    },
    {
      "cell_type": "code",
      "execution_count": 63,
      "metadata": {
        "id": "fVQ2pDhEamsJ",
        "colab": {
          "base_uri": "https://localhost:8080/"
        },
        "outputId": "2ed99ca7-eb38-4b68-cff8-898a1e696c03"
      },
      "outputs": [
        {
          "output_type": "stream",
          "name": "stdout",
          "text": [
            "The number of distinct job_summary values is: 958192\n"
          ]
        }
      ],
      "source": [
        "distinct_count = job_summary.select(\"job_summary\").distinct().count()\n",
        "print(f\"The number of distinct job_summary values is: {distinct_count}\")"
      ]
    },
    {
      "cell_type": "code",
      "execution_count": 64,
      "metadata": {
        "id": "nBNXJBtFOkTT",
        "colab": {
          "base_uri": "https://localhost:8080/"
        },
        "outputId": "558204a2-838a-4375-9268-00897055477d"
      },
      "outputs": [
        {
          "output_type": "stream",
          "name": "stdout",
          "text": [
            "The number of distinct job_link values is: 1297332\n"
          ]
        }
      ],
      "source": [
        "distinct_count = job_summary.select(\"job_link\").distinct().count()\n",
        "print(f\"The number of distinct job_link values is: {distinct_count}\")"
      ]
    },
    {
      "cell_type": "code",
      "execution_count": 65,
      "metadata": {
        "id": "0w82f53nuQj4",
        "colab": {
          "base_uri": "https://localhost:8080/"
        },
        "outputId": "943b02e7-d24c-4da1-de3b-af5e8ce8aa61"
      },
      "outputs": [
        {
          "output_type": "stream",
          "name": "stdout",
          "text": [
            "The total number of rows in the table is: 1297332\n"
          ]
        }
      ],
      "source": [
        "rows_number = job_summary.count()\n",
        "print(f\"The total number of rows in the table is: {rows_number}\")"
      ]
    },
    {
      "cell_type": "markdown",
      "metadata": {
        "id": "Ex4kqakMOc-3"
      },
      "source": [
        "### Number of occurences of the same description jobs"
      ]
    },
    {
      "cell_type": "code",
      "execution_count": 66,
      "metadata": {
        "id": "HV9O4AkHQJaH",
        "colab": {
          "base_uri": "https://localhost:8080/",
          "height": 487
        },
        "outputId": "7282c6b9-2b4d-41a9-fc92-792c867e2f01"
      },
      "outputs": [
        {
          "output_type": "display_data",
          "data": {
            "text/plain": [
              "<Figure size 1000x500 with 1 Axes>"
            ],
            "image/png": "[encoded data removed]"
          },
          "metadata": {}
        }
      ],
      "source": [
        "job_counts = job_summary.groupBy(\"job_summary\").count().orderBy(\"count\", ascending=False).limit(20)\n",
        "job_counts = job_counts.toPandas()\n",
        "duplicates=job_counts['count']\n",
        "indexes=job_counts.index.astype(str)\n",
        "\n",
        "plt.figure(figsize=(10, 5))\n",
        "plt.barh(indexes, duplicates, color=\"blue\")\n",
        "plt.xlabel(\"N. of duplicates\")\n",
        "plt.ylabel(\"Job description with most duplicates\")\n",
        "plt.title(\"N. of duplicates for job description\")\n",
        "plt.show()"
      ]
    },
    {
      "cell_type": "markdown",
      "metadata": {
        "id": "T642HXNLEc4l"
      },
      "source": [
        "# Tokenization removing stopwords"
      ]
    },
    {
      "cell_type": "code",
      "execution_count": 67,
      "metadata": {
        "id": "UGYKppWdEbFN"
      },
      "outputs": [],
      "source": [
        "def string_tokenization(string):\n",
        "  \"\"\" Tokenize strings in input\n",
        "  Args:\n",
        "    string (str): input string\n",
        "  Returns:\n",
        "    list: a list of tokens\n",
        "  \"\"\"\n",
        "  return [token for token in re.split(r'\\W+', string.lower()) if token and len(token)>2]"
      ]
    },
    {
      "cell_type": "code",
      "execution_count": 68,
      "metadata": {
        "id": "Tz4kpVeiLZOL"
      },
      "outputs": [],
      "source": [
        "def remove_stopwords(token_list):\n",
        "  \"\"\" Remove stopwords from lists in input\n",
        "  Args:\n",
        "    token_list (list): input list of strings\n",
        "  Returns:\n",
        "    list: a list of tokens\n",
        "  \"\"\"\n",
        "  return [token for token in token_list if token not in stop_words]"
      ]
    },
    {
      "cell_type": "code",
      "execution_count": 69,
      "metadata": {
        "id": "Y6XxkYLyVtZH"
      },
      "outputs": [],
      "source": [
        "def stemmer_lemmatizer_tokens(token_list):\n",
        "  \"\"\" Stem and lemmatize the list in input\n",
        "  Args:\n",
        "    token_list (list): input list of strings\n",
        "  Returns:\n",
        "    list: a list of tokens\n",
        "  \"\"\"\n",
        "  stemmer = PorterStemmer()\n",
        "  token_list=[stemmer.stem(word) for word in token_list]\n",
        "\n",
        "  lemmatizer = WordNetLemmatizer()\n",
        "  token_list=[lemmatizer.lemmatize(word) for word in token_list]\n",
        "\n",
        "  return token_list"
      ]
    },
    {
      "cell_type": "code",
      "execution_count": 70,
      "metadata": {
        "id": "4a9VXaF3QuHM"
      },
      "outputs": [],
      "source": [
        "job_summary_token=job_summary.rdd.map(lambda s: (s[0], string_tokenization(s[1])))"
      ]
    },
    {
      "cell_type": "code",
      "execution_count": 71,
      "metadata": {
        "id": "CxKNEL8urx2m"
      },
      "outputs": [],
      "source": [
        "job_summary_token=job_summary_token.map(lambda s: (s[0], remove_stopwords(s[1])))"
      ]
    },
    {
      "cell_type": "code",
      "execution_count": 72,
      "metadata": {
        "id": "x_A56_rxWraC"
      },
      "outputs": [],
      "source": [
        "job_summary_token=job_summary_token.map(lambda s: (s[0], stemmer_lemmatizer_tokens(s[1])))"
      ]
    },
    {
      "cell_type": "code",
      "source": [
        "tokenize_job_description_len=job_summary_token.take(10000)\n",
        "tokenize_job_description_len=sc.parallelize(tokenize_job_description_len).map(lambda s: len(s[1]))"
      ],
      "metadata": {
        "id": "5ItCPPZQggyb"
      },
      "execution_count": 73,
      "outputs": []
    },
    {
      "cell_type": "code",
      "source": [
        "max_len=tokenize_job_description_len.max()\n",
        "min_len=tokenize_job_description_len.min()\n",
        "avg_len=tokenize_job_description_len.mean()\n",
        "print(f\"\"\"The average length of the first 10000 job descriptions is: {avg_len:.4f}\n",
        "          The min length is: {min_len}\n",
        "          The max length is: {max_len}\"\"\")"
      ],
      "metadata": {
        "id": "OnypFXDlhCk3",
        "colab": {
          "base_uri": "https://localhost:8080/"
        },
        "outputId": "0d8baf15-b62b-4cae-cf3b-9c06ad24ca33"
      },
      "execution_count": 74,
      "outputs": [
        {
          "output_type": "stream",
          "name": "stdout",
          "text": [
            "The average length of the first 10000 job descriptions is: 412.7496\n",
            "          The min length is: 13\n",
            "          The max length is: 2234\n"
          ]
        }
      ]
    },
    {
      "cell_type": "code",
      "execution_count": 75,
      "metadata": {
        "id": "aWxPUcRkW8th"
      },
      "outputs": [],
      "source": [
        "sample=job_summary_token.take(10)\n",
        "sample=sc.parallelize(sample)"
      ]
    },
    {
      "cell_type": "code",
      "execution_count": 76,
      "metadata": {
        "id": "0iE5CIlissfl",
        "colab": {
          "base_uri": "https://localhost:8080/"
        },
        "outputId": "174c71c0-bcf2-403e-e4c8-39a338c23323"
      },
      "outputs": [
        {
          "output_type": "stream",
          "name": "stdout",
          "text": [
            "[('https://www.linkedin.com/jobs/view/restaurant-manager-at-rock-n-roll-sushi-3805551344', ['rock', 'roll', 'sushi', 'hire', 'restaur', 'manag', 'restaur', 'manag', 'never', 'bore', 'respons', 'make', 'sure', 'restaur', 'run', 'smoothli', 'offer', 'competit', 'compens', 'insur', 'benefit', 'bonu', 'opportun', 'great', 'work', 'atmospher', 'duti', 'respons', 'ensur', 'restaur', 'fulli', 'appropri', 'staf', 'time', 'maintain', 'oper', 'excel', 'restaur', 'run', 'effici', 'effect', 'ensur', 'law', 'regul', 'guidelin', 'follow', 'creat', 'restaur', 'atmospher', 'patron', 'employe', 'enjoy', 'variou', 'task', 'need', 'requir', 'previou', 'experi', 'restaur', 'manag', 'extens', 'food', 'beverag', 'knowledg', 'abil', 'rememb', 'recal', 'ingredi', 'dish', 'inform', 'custom', 'wait', 'staff', 'great', 'leadership', 'skill', 'familiar', 'restaur', 'manag', 'softwar', 'demonstr', 'abil', 'coordin', 'staff', 'show', 'show', 'less'])]\n"
          ]
        }
      ],
      "source": [
        "print(sample.take(1))"
      ]
    },
    {
      "cell_type": "markdown",
      "metadata": {
        "id": "rhgAX5a5MLyL"
      },
      "source": [
        "# TF-IDF"
      ]
    },
    {
      "cell_type": "code",
      "execution_count": 77,
      "metadata": {
        "id": "l6US9FDoBG55"
      },
      "outputs": [],
      "source": [
        "def tf(tokens):\n",
        "  \"\"\" Compute TF\n",
        "    Args:\n",
        "        tokens (list of str): input list of strings\n",
        "    Returns:\n",
        "        dictionary: a dictionary of tokens to its TF values\n",
        "\"\"\"\n",
        "  val = {}\n",
        "\n",
        "  for t in tokens:\n",
        "    if t in val:\n",
        "      val[t] += 1\n",
        "    else:\n",
        "      val[t] = 1.0\n",
        "\n",
        "  for t in val:\n",
        "    val[t] /= len(tokens)\n",
        "\n",
        "  return val"
      ]
    },
    {
      "cell_type": "code",
      "execution_count": 78,
      "metadata": {
        "id": "4d72IzhC2a0t"
      },
      "outputs": [],
      "source": [
        "def idfs(corpus):\n",
        "    \"\"\" Compute IDF\n",
        "      Args:\n",
        "          corpus (RDD): input RDD of documents represented by job link and description\n",
        "      Returns:\n",
        "          dictionary: dictionary of tokens to IDF values\n",
        "    \"\"\"\n",
        "\n",
        "    unique_tokens = corpus.flatMap(lambda doc: doc[1]).distinct().collect()\n",
        "    N = corpus.count()\n",
        "    idfs_val = {token: 0 for token in unique_tokens}\n",
        "\n",
        "    for token in unique_tokens:\n",
        "        doc_freq = corpus.filter(lambda doc: token in doc[1]).count()\n",
        "        if doc_freq > 0:\n",
        "          idfs_val[token] = N / doc_freq\n",
        "        else:\n",
        "          0\n",
        "\n",
        "    return idfs_val"
      ]
    },
    {
      "cell_type": "code",
      "execution_count": 79,
      "metadata": {
        "id": "2B4UgcZjF9M6"
      },
      "outputs": [],
      "source": [
        "def tfidf(tokens, idfs):\n",
        "  \"\"\" Compute TF-IDF\n",
        "    Args:\n",
        "        tokens (list of str): input list of tokens from tokenize\n",
        "        idfs (dictionary): a dictionary of tokens to IDF values\n",
        "    Returns:\n",
        "        dictionary: a dictionary of tokens to TF-IDF values\n",
        "  \"\"\"\n",
        "  tf_tokens=tf(tokens)\n",
        "  tf_idf_dict = {t: tf_tokens[t]*idfs[t] for t in tokens}\n",
        "\n",
        "  return tf_idf_dict\n"
      ]
    },
    {
      "cell_type": "code",
      "source": [
        "def idfs_optimized(corpus):\n",
        "    \"\"\" Compute IDF\n",
        "      Args:\n",
        "          corpus (RDD): input RDD of documents represented by job link and description\n",
        "      Returns:\n",
        "          RDD: RDD of tokens to IDF values\n",
        "    \"\"\"\n",
        "\n",
        "    unique_tokens = corpus.flatMap(lambda doc: doc[1]).distinct().collect()\n",
        "    N = corpus.count()\n",
        "\n",
        "    token_doc_pairs = corpus.flatMap(lambda doc: [(token, doc[0]) for token in set(doc[1])])\n",
        "    doc_freq_optimized = token_doc_pairs.map(lambda pair: (pair[0], 1)).reduceByKey(lambda a, b: a + b)\n",
        "    idfs_val = doc_freq_optimized.map(lambda token_freq_record: (token_freq_record[0], N / token_freq_record[1] if token_freq_record[1] > 0 else 0))\n",
        "\n",
        "    return idfs_val"
      ],
      "metadata": {
        "id": "C6iToSQBwSR7"
      },
      "execution_count": 80,
      "outputs": []
    },
    {
      "cell_type": "code",
      "source": [
        "def tfidf_optimized(corpus, idfs):\n",
        "    \"\"\" Compute TF-IDF\n",
        "    Args:\n",
        "        corpus (RDD): RDD contatining all documents represented by a list of tokens\n",
        "        idfs (RDD): RDD of tokens to IDF values\n",
        "    Returns:\n",
        "        RDD: RDD of elements of the form (document ID, {token: TF-IDF value , ...})\n",
        "    \"\"\"\n",
        "\n",
        "    doc_tf_dict_rdd = corpus.map(lambda doc: (doc[0], tf(doc[1])))\n",
        "    token_tf_doc = doc_tf_dict_rdd.flatMap(lambda doc_tf_dict: [( token, (tf_value, doc_tf_dict[0])) for token, tf_value in doc_tf_dict[1].items()])\n",
        "\n",
        "    # x of the type (token, ((tf_value, document ID), idf_value))\n",
        "    doc_token_tf_idf_rdd = token_tf_doc.join(idfs).map(lambda x: (x[1][0][1], x[0], x[1][0][0] * x[1][1]))\n",
        "    doc_tf_idf_dict_rdd = doc_token_tf_idf_rdd.map(lambda x: (x[0], {x[1]: x[2]})).reduceByKey(lambda a, b: {**a, **b})\n",
        "\n",
        "    return doc_tf_idf_dict_rdd"
      ],
      "metadata": {
        "id": "fsHcmAUpyHw0"
      },
      "execution_count": 81,
      "outputs": []
    },
    {
      "cell_type": "markdown",
      "metadata": {
        "id": "eUk83GrZNI4W"
      },
      "source": [
        "## Applying TF-IDF to a sample of data made of 10 records"
      ]
    },
    {
      "cell_type": "code",
      "execution_count": 82,
      "metadata": {
        "id": "rPT6N7k1VJAj"
      },
      "outputs": [],
      "source": [
        "corpus_sample = sample"
      ]
    },
    {
      "cell_type": "code",
      "execution_count": 83,
      "metadata": {
        "id": "heHyOSjFkYK8"
      },
      "outputs": [],
      "source": [
        "idfs_val=idfs(corpus_sample)"
      ]
    },
    {
      "cell_type": "code",
      "execution_count": 84,
      "metadata": {
        "id": "vqsAQBST3-LJ",
        "colab": {
          "base_uri": "https://localhost:8080/"
        },
        "outputId": "ab40ec71-9b26-4008-820e-3312d00038c0"
      },
      "outputs": [
        {
          "output_type": "stream",
          "name": "stdout",
          "text": [
            "[('https://www.linkedin.com/jobs/view/restaurant-manager-at-rock-n-roll-sushi-3805551344', {'rock': 0.11494252873563218, 'roll': 0.11494252873563218, 'sushi': 0.11494252873563218, 'hire': 0.05747126436781609, 'restaur': 0.30651340996168586, 'manag': 0.05747126436781609, 'never': 0.11494252873563218, 'bore': 0.11494252873563218, 'respons': 0.03831417624521073, 'make': 0.014367816091954023, 'sure': 0.11494252873563218, 'run': 0.22988505747126436, 'smoothli': 0.11494252873563218, 'offer': 0.022988505747126436, 'competit': 0.03831417624521073, 'compens': 0.11494252873563218, 'insur': 0.022988505747126436, 'benefit': 0.022988505747126436, 'bonu': 0.03831417624521073, 'opportun': 0.014367816091954023, 'great': 0.11494252873563218, 'work': 0.01277139208173691, 'atmospher': 0.11494252873563218, 'duti': 0.05747126436781609, 'ensur': 0.03831417624521073, 'fulli': 0.11494252873563218, 'appropri': 0.05747126436781609, 'staf': 0.05747126436781609, 'time': 0.014367816091954023, 'maintain': 0.016420361247947456, 'oper': 0.019157088122605366, 'excel': 0.028735632183908046, 'effici': 0.03831417624521073, 'effect': 0.019157088122605366, 'law': 0.028735632183908046, 'regul': 0.11494252873563218, 'guidelin': 0.05747126436781609, 'follow': 0.022988505747126436, 'creat': 0.05747126436781609, 'patron': 0.11494252873563218, 'employe': 0.016420361247947456, 'enjoy': 0.028735632183908046, 'variou': 0.11494252873563218, 'task': 0.11494252873563218, 'need': 0.014367816091954023, 'requir': 0.016420361247947456, 'previou': 0.11494252873563218, 'experi': 0.01277139208173691, 'extens': 0.03831417624521073, 'food': 0.028735632183908046, 'beverag': 0.11494252873563218, 'knowledg': 0.03831417624521073, 'abil': 0.03831417624521073, 'rememb': 0.11494252873563218, 'recal': 0.11494252873563218, 'ingredi': 0.03831417624521073, 'dish': 0.11494252873563218, 'inform': 0.014367816091954023, 'custom': 0.014367816091954023, 'wait': 0.05747126436781609, 'staff': 0.07662835249042146, 'leadership': 0.028735632183908046, 'skill': 0.014367816091954023, 'familiar': 0.11494252873563218, 'softwar': 0.11494252873563218, 'demonstr': 0.028735632183908046, 'coordin': 0.03831417624521073, 'show': 0.022988505747126436, 'less': 0.011494252873563218})]\n"
          ]
        }
      ],
      "source": [
        "tfidf_rdd = corpus_sample.map(lambda doc: (doc[0], tfidf(doc[1], idfs_val)))\n",
        "\n",
        "tfidf_first=tfidf_rdd.take(1)\n",
        "print(tfidf_first)\n",
        "# tfidf_list = tfidf_rdd.collect()\n",
        "# for link, tfidf_values in tfidf_list:\n",
        "#     print(f\"{link}:\\n {tfidf_values}\")"
      ]
    },
    {
      "cell_type": "markdown",
      "metadata": {
        "id": "87htI4lE4pMn"
      },
      "source": [
        "### TF-IDF optimized for distributed systems"
      ]
    },
    {
      "cell_type": "code",
      "execution_count": 85,
      "metadata": {
        "id": "lQ9hgKjq4OCB"
      },
      "outputs": [],
      "source": [
        "idfs_val_optimized=idfs_optimized(corpus_sample)"
      ]
    },
    {
      "cell_type": "code",
      "execution_count": 86,
      "metadata": {
        "id": "A1Mt7zjl4K13"
      },
      "outputs": [],
      "source": [
        "tfidf_rdd_optimized = tfidf_optimized(corpus_sample, idfs_val_optimized)"
      ]
    },
    {
      "cell_type": "code",
      "source": [
        "print(idfs_val_optimized.take(10))"
      ],
      "metadata": {
        "id": "k7yV-0ZGix86",
        "colab": {
          "base_uri": "https://localhost:8080/"
        },
        "outputId": "74022dd8-26b5-4d59-8842-4413f5dec52a"
      },
      "execution_count": 87,
      "outputs": [
        {
          "output_type": "stream",
          "name": "stdout",
          "text": [
            "[('leadership', 2.5), ('staf', 5.0), ('atmospher', 5.0), ('creat', 5.0), ('oper', 1.6666666666666667), ('employe', 1.4285714285714286), ('effect', 1.6666666666666667), ('variou', 10.0), ('softwar', 10.0), ('task', 10.0)]\n"
          ]
        }
      ]
    },
    {
      "cell_type": "code",
      "source": [
        "tfidf_optimized_first=tfidf_rdd_optimized.take(1)\n",
        "print(tfidf_optimized_first)\n",
        "# for item in tfidf_rdd_optimized.toLocalIterator():\n",
        "#     print(f\"{item[0]}:\\n {item[1]}\")"
      ],
      "metadata": {
        "id": "got2YXhZinpK",
        "colab": {
          "base_uri": "https://localhost:8080/"
        },
        "outputId": "ba64083c-b7d3-4b44-f9ef-216af8af51b6"
      },
      "execution_count": 88,
      "outputs": [
        {
          "output_type": "stream",
          "name": "stdout",
          "text": [
            "[('https://www.linkedin.com/jobs/view/store-manager-at-stop-shop-3782135496', {'work': 0.004273504273504274, 'ensur': 0.006410256410256411, 'creat': 0.038461538461538464, 'leadership': 0.028846153846153848, 'job': 0.005494505494505495, 'team': 0.012820512820512822, 'provid': 0.009615384615384616, 'condit': 0.009615384615384616, 'perform': 0.007692307692307693, 'diver': 0.019230769230769232, 'color': 0.007692307692307693, 'environ': 0.005494505494505495, 'posit': 0.01098901098901099, 'includ': 0.057692307692307696, 'ident': 0.019230769230769232, 'peopl': 0.007692307692307693, 'possibl': 0.009615384615384616, 'nation': 0.009615384615384616, 'origin': 0.007692307692307693, 'gender': 0.019230769230769232, 'orient': 0.019230769230769232, 'busi': 0.012820512820512822, 'sale': 0.012820512820512822, 'record': 0.009615384615384616, 'interperson': 0.019230769230769232, 'best': 0.009615384615384616, 'road': 0.038461538461538464, 'store': 0.057692307692307696, 'human': 0.019230769230769232, 'brand': 0.012820512820512822, 'shop': 0.11538461538461539, 'associ': 0.025641025641025644, 'feel': 0.012820512820512822, 'put': 0.012820512820512822, 'feed': 0.038461538461538464, 'complianc': 0.038461538461538464, 'feedback': 0.019230769230769232, 'result': 0.038461538461538464, 'legendari': 0.038461538461538464, 'safe': 0.038461538461538464, 'handl': 0.019230769230769232, 'self': 0.019230769230769232, 'starter': 0.019230769230769232, 'influenc': 0.038461538461538464, 'detail': 0.019230769230769232, 'pregnanc': 0.038461538461538464, 'genet': 0.012820512820512822, 'victim': 0.038461538461538464, 'characterist': 0.038461538461538464, 'requisit': 0.019230769230769232, 'manag': 0.014423076923076924, 'time': 0.004807692307692308, 'experi': 0.004273504273504274, 'food': 0.009615384615384616, 'custom': 0.03365384615384616, 'demonstr': 0.009615384615384616, 'show': 0.011538461538461539, 'age': 0.007692307692307693, 'life': 0.009615384615384616, 'relat': 0.057692307692307696, 'sensit': 0.019230769230769232, 'recogn': 0.012820512820512822, 'activ': 0.006410256410256411, 'without': 0.009615384615384616, 'servic': 0.04807692307692308, 'protect': 0.009615384615384616, 'address': 0.038461538461538464, 'fenn': 0.038461538461538464, 'code': 0.038461538461538464, 'dedic': 0.038461538461538464, 'celebr': 0.038461538461538464, 'break': 0.038461538461538464, 'first': 0.019230769230769232, 'moment': 0.038461538461538464, 'except': 0.038461538461538464, 'extern': 0.038461538461538464, 'local': 0.038461538461538464, 'audit': 0.038461538461538464, 'expect': 0.038461538461538464, 'coach': 0.019230769230769232, 'deleg': 0.07692307692307693, 'pro': 0.038461538461538464, 'hold': 0.019230769230769232, 'track': 0.038461538461538464, 'payrol': 0.019230769230769232, 'verbal': 0.038461538461538464, 'written': 0.038461538461538464, 'organ': 0.038461538461538464, 'organiz': 0.038461538461538464, 'compli': 0.038461538461538464, 'union': 0.038461538461538464, 'militari': 0.019230769230769232, 'domest': 0.038461538461538464, 'violenc': 0.038461538461538464, 'make': 0.004807692307692308, 'maintain': 0.005494505494505495, 'oper': 0.012820512820512822, 'effect': 0.006410256410256411, 'law': 0.028846153846153848, 'abil': 0.006410256410256411, 'promot': 0.019230769230769232, 'plan': 0.016483516483516484, 'state': 0.012820512820512822, 'medic': 0.009615384615384616, 'disabl': 0.009615384615384616, 'account': 0.028846153846153848, 'legal': 0.012820512820512822, 'resourc': 0.009615384615384616, 'employ': 0.006410256410256411, 'depart': 0.019230769230769232, 'applic': 0.015384615384615385, 'highli': 0.019230769230769232, 'equal': 0.007692307692307693, 'race': 0.009615384615384616, 'religion': 0.009615384615384616, 'sexual': 0.009615384615384616, 'marit': 0.019230769230769232, 'statu': 0.038461538461538464, 'veteran': 0.007692307692307693, 'consid': 0.019230769230769232, 'interact': 0.012820512820512822, 'high': 0.007692307692307693, 'usa': 0.038461538461538464, 'stop': 0.11538461538461539, 'belong': 0.038461538461538464, 'barrier': 0.038461538461538464, 'help': 0.038461538461538464, 'win': 0.038461538461538464, 'primari': 0.038461538461538464, 'class': 0.019230769230769232, 'intern': 0.038461538461538464, 'act': 0.038461538461538464, 'empow': 0.038461538461538464, 'profit': 0.038461538461538464, 'administr': 0.038461538461538464, 'strateg': 0.038461538461538464, 'motiv': 0.019230769230769232, 'cross': 0.038461538461538464, 'regard': 0.009615384615384616, 'childbirth': 0.038461538461538464, 'respons': 0.032051282051282055, 'opportun': 0.004807692307692308, 'excel': 0.009615384615384616, 'knowledg': 0.025641025641025644, 'inform': 0.004807692307692308, 'skill': 0.03365384615384616, 'less': 0.0038461538461538464, 'care': 0.007692307692307693, 'function': 0.019230769230769232, 'within': 0.007692307692307693, 'develop': 0.005494505494505495, 'cultur': 0.019230769230769232, 'held': 0.019230769230769232, 'commun': 0.017094017094017096, 'everi': 0.009615384615384616, 'total': 0.019230769230769232, 'well': 0.006410256410256411, 'one': 0.012820512820512822, 'level': 0.038461538461538464, 'facilit': 0.019230769230769232, 'day': 0.006410256410256411, 'qualifi': 0.019230769230769232, 'product': 0.006410256410256411, 'strong': 0.015384615384615385, 'newington': 0.07692307692307693, '2765625': 0.038461538461538464, 'background': 0.012820512820512822, 'thrive': 0.038461538461538464, 'made': 0.038461538461538464, 'promis': 0.038461538461538464, 'small': 0.038461538461538464, 'feder': 0.025641025641025644, 'daili': 0.019230769230769232, 'direct': 0.019230769230769232, 'proven': 0.038461538461538464, 'labor': 0.038461538461538464, 'merchandis': 0.038461538461538464, 'sanit': 0.012820512820512822, 'safeti': 0.012820512820512822, 'essenti': 0.012820512820512822, 'analyt': 0.038461538461538464, 'attent': 0.019230769230769232, 'sex': 0.012820512820512822, 'ancestri': 0.038461538461538464, 'citizenship': 0.038461538461538464, 'civil': 0.038461538461538464, '355474_external_usa': 0.038461538461538464})]\n"
          ]
        }
      ]
    },
    {
      "cell_type": "markdown",
      "metadata": {
        "id": "gy28DahVb1WL"
      },
      "source": [
        "### TF-IDF with sklearn"
      ]
    },
    {
      "cell_type": "code",
      "execution_count": 89,
      "metadata": {
        "id": "bP54HmGEsnn0"
      },
      "outputs": [],
      "source": [
        "job_sum_col_sample=job_summary.select('job_summary').limit(10).collect()\n",
        "job_sum_col_sample_list=[row[0] for row in job_sum_col_sample]"
      ]
    },
    {
      "cell_type": "code",
      "execution_count": 90,
      "metadata": {
        "id": "bEnslveeuCvz"
      },
      "outputs": [],
      "source": [
        "job_link_col_sample=job_summary.select('job_link').limit(10).collect()\n",
        "job_link_col_sample_list=[row[0] for row in job_link_col_sample]"
      ]
    },
    {
      "cell_type": "code",
      "execution_count": null,
      "metadata": {
        "id": "2DABgpQ21fQZ"
      },
      "outputs": [],
      "source": [
        "vectorizer = TfidfVectorizer(stop_words=stop_words, tokenizer=string_tokenization)\n",
        "tfidf_matrix = vectorizer.fit_transform(job_sum_col_sample_list)"
      ]
    },
    {
      "cell_type": "code",
      "execution_count": 92,
      "metadata": {
        "id": "7poZAgg_t0oz"
      },
      "outputs": [],
      "source": [
        "tfidf_df = pd.DataFrame(tfidf_matrix.toarray(), index=job_link_col_sample_list, columns=vectorizer.get_feature_names_out())"
      ]
    },
    {
      "cell_type": "markdown",
      "metadata": {
        "id": "ki5BEhvJNe-d"
      },
      "source": [
        "# Applying TF-IDF to a bigger dataset"
      ]
    },
    {
      "cell_type": "code",
      "execution_count": 93,
      "metadata": {
        "id": "HGYH2ShUPUTQ"
      },
      "outputs": [],
      "source": [
        "corpus = job_summary_token.take(1000)\n",
        "corpus=sc.parallelize(corpus)"
      ]
    },
    {
      "cell_type": "markdown",
      "metadata": {
        "id": "yA5xY5N6Q-Nf"
      },
      "source": [
        "### TF-IDF optimized for distributed systems\n",
        "\n"
      ]
    },
    {
      "cell_type": "code",
      "execution_count": 94,
      "metadata": {
        "id": "9hrvj9mnQ3ZD"
      },
      "outputs": [],
      "source": [
        "idfs_val_optimized=idfs_optimized(corpus)"
      ]
    },
    {
      "cell_type": "code",
      "execution_count": 95,
      "metadata": {
        "id": "cT7bTlPuQyfO",
        "colab": {
          "base_uri": "https://localhost:8080/"
        },
        "outputId": "8425e156-a367-4f97-c1f3-9441ae988041"
      },
      "outputs": [
        {
          "output_type": "stream",
          "name": "stdout",
          "text": [
            "('https://www.linkedin.com/jobs/view/store-manager-at-nonn-s-3799537264', {'smoothli': 0.0801924619085806, 'work': 0.01722652885443583, 'ensur': 0.003155470007257581, 'regul': 0.0121758188238159, 'employe': 0.01692562878710944, 'staff': 0.01142791840466259, 'leadership': 0.005285412262156448, 'period': 0.016552180749813787, 'job': 0.018505952748133984, 'individu': 0.030202355783751134, 'process': 0.0056860180815375, 'team': 0.014355440712029858, 'condit': 0.0061038881767686015, 'polici': 0.013163668275559455, 'perform': 0.025520783488053082, 'accord': 0.008365400702693659, 'current': 0.009119927040583675, 'particip': 0.008549931600547196, 'practic': 0.005963029218843173, 'demand': 0.040799673602611185, 'walk': 0.017618040873854827, 'carri': 0.014534883720930232, 'vision': 0.0052026429426148485, 'color': 0.006442053726728081, 'stoop': 0.010667804565820354, 'environ': 0.012639029322548028, 'comput': 0.008456659619450317, 'plea': 0.017958157493041214, 'descript': 0.007068636460026861, 'design': 0.0369139904023625, 'may': 0.02133560913164071, 'posit': 0.006276872861940182, 'join': 0.00651423360041691, 'includ': 0.011775095672652341, 'dental': 0.005644615037254459, 'ident': 0.007803964413922272, 'match': 0.011512779184895234, 'aspect': 0.011074197120708748, 'must': 0.013040643338404694, 'like': 0.020222446916076844, 'nation': 0.005658348893792791, 'origin': 0.006285355122564425, 'gender': 0.007624857033930614, 'orient': 0.0048049202383240435, 'sale': 0.009730466089325679, 'best': 0.007406310176270183, 'store': 0.027424308907415533, 'handl': 0.021335609131640707, 'pregnanc': 0.014180374361883154, 'genet': 0.010290183165260341, 'characterist': 0.03121585765568909, 'even': 0.01592863969417012, 'set': 0.007526153383005946, 'question': 0.025278058645096056, 'recruit': 0.006168650916044661, 'quick': 0.03370407819346141, 'goal': 0.0058875478363261706, 'particular': 0.15503875968992248, 'degre': 0.009981036031540073, 'crouch': 0.03875968992248062, 'supervisori': 0.037509377344336084, 'inquiri': 0.07501875468867217, 'importantli': 0.25839793281653745, 'bid': 0.46511627906976744, 'actual': 0.06119951040391677, 'larg': 0.04387889425186486, 'encount': 0.29069767441860467, 'builder': 0.7751937984496123, 'nari': 2.3255813953488373, 'manag': 0.007821462091980393, 'time': 0.005895009874141539, 'guidelin': 0.010867202782003912, 'follow': 0.004101554489151388, 'need': 0.010111223458038422, 'requir': 0.008000853424365266, 'experi': 0.004948045522018802, 'custom': 0.0065051227841925515, 'show': 0.009302325581395349, 'physic': 0.01171577529142991, 'facil': 0.011627906976744186, 'age': 0.005537098560354374, 'life': 0.007313149041977476, 'reach': 0.006921373200442968, 'sit': 0.06740815638692282, 'hand': 0.007883326763894362, 'arm': 0.039416633819471816, 'relationship': 0.019625159454420567, 'offic': 0.009155832265152902, 'role': 0.018604651162790697, 'without': 0.006119951040391677, 'servic': 0.0029891791713995337, 'prescript': 0.10111223458038422, 'protect': 0.005383290267011198, 'build': 0.012436264146250466, 'part': 0.006663557006730192, 'qualiti': 0.005617346365576902, 'train': 0.011745360582569885, 'extend': 0.06459948320413436, 'email': 0.03662332906061161, 'workforc': 0.04152823920265781, 'address': 0.056264066016504126, 'local': 0.006983727913960472, 'organ': 0.00584316933504733, 'clean': 0.007675186123263489, 'warehous': 0.07047216349541931, 'reason': 0.03781433163168841, 'overse': 0.011456065986940085, 'keep': 0.013442667025137788, 'possess': 0.05001250312578144, 'com': 0.009084302325581396, 'deadlin': 0.018311664530305805, 'directli': 0.01709986320109439, 'pound': 0.009415309292910273, 'enabl': 0.09302325581395349, 'among': 0.0664451827242525, 'annual': 0.016730801405387317, 'greet': 0.10111223458038422, 'might': 0.13679890560875513, 'prior': 0.015607928827844545, 'session': 0.07501875468867217, 'apprais': 0.1107419712070875, 'older': 0.05167958656330749, 'lookout': 0.46511627906976744, 'catch': 0.38759689922480617, 'discern': 0.7751937984496123, 'artisan': 1.5503875968992247, 'presid': 0.46511627906976744, 'hire': 0.014939495045067478, 'make': 0.008217602103706138, 'sure': 0.020764119601328904, 'run': 0.025839793281653745, 'benefit': 0.004446618346747299, 'maintain': 0.007624857033930614, 'oper': 0.0030761658668635415, 'law': 0.009434407283362423, 'abil': 0.012587720678478144, 'summari': 0.008842514811212308, 'promot': 0.00813140348024069, 'support': 0.00398215992354253, 'supervis': 0.006234802668495542, 'assign': 0.012992074834351046, 'procedur': 0.004785146904009953, 'plan': 0.008742787200559538, 'compet': 0.01409443269908386, 'profession': 0.006760411032990805, 'stand': 0.0052260256075254774, 'state': 0.003888932099245547, 'use': 0.004472271914132379, 'kneel': 0.01626280696048138, 'move': 0.026578073089700997, 'look': 0.02034036205844464, 'reward': 0.01081665765278529, 'medic': 0.005297451925623775, 'disabl': 0.03154858482062376, 'home': 0.06014434643143545, 'year': 0.002970091181799281, 'event': 0.01313887793982394, 'paid': 0.006983727913960472, 'employ': 0.0033558173093056814, 'appli': 0.009896091044037604, 'decis': 0.010290183165260341, 'depart': 0.010024057738572576, 'commit': 0.011047892614483787, 'compani': 0.01017018102922232, 'growth': 0.005395780499649274, 'applic': 0.01138131188588338, 'equal': 0.008775778850372971, 'race': 0.006218132073125233, 'religion': 0.00704721634954193, 'sexual': 0.006760411032990805, 'someon': 0.06839945280437756, 'new': 0.007649938800489596, 'ideal': 0.03419972640218878, 'holiday': 0.008365400702693659, 'due': 0.07047216349541931, 'success': 0.013925637097897228, 'help': 0.012403100775193798, 'empow': 0.019876764062810574, 'regard': 0.013251176041873716, 'leader': 0.006152331733727083, 'differ': 0.010667804565820354, 'take': 0.013679890560875515, 'abl': 0.005785028346638898, 'ticket': 0.036337209302325583, 'accommod': 0.05019240421616195, 'confid': 0.05055611729019211, 'satisfactorili': 0.08305647840531562, 'talent': 0.010199918400652796, 'point': 0.020764119601328904, 'around': 0.01409443269908386, 'meet': 0.01296792599636898, 'solv': 0.009531071292413266, 'certain': 0.020222446916076844, 'group': 0.020134903855834087, 'monitor': 0.009377344336084021, 'describ': 0.0664451827242525, 'perceiv': 0.16611295681063123, 'typic': 0.05167958656330749, 'ordin': 0.16611295681063123, 'tight': 0.2114164904862579, 'respons': 0.013599891200870393, 'compens': 0.012848515996402415, 'insur': 0.01855517070757051, 'opportun': 0.005806695119472752, 'duti': 0.014009526478005043, 'knowledg': 0.010002500625156289, 'inform': 0.004412867922863068, 'skill': 0.0028257368108734354, 'less': 0.002325581395348837, 'care': 0.008395600705230459, 'health': 0.0061038881767686015, 'function': 0.029663028001898434, 'base': 0.005012028869286288, 'develop': 0.0031944799386659853, 'educ': 0.005111167901865577, 'document': 0.019460932178651358, 'find': 0.015199878400972791, 'problem': 0.014859945018203433, 'initi': 0.01052299273913501, 'report': 0.006024822267743101, 'qualif': 0.004614248800295312, 'lift': 0.005261496369567505, 'list': 0.015199878400972791, 'assist': 0.004108801051853069, 'well': 0.009472836640932127, '401': 0.015101177891875567, 'throughout': 0.025555839509327882, 'one': 0.010741715451957677, 'see': 0.02871088142405972, 'day': 0.010692328254477412, 'interview': 0.009689922480620155, 'mail': 0.16611295681063123, 'product': 0.0047364183204660635, 'complaint': 0.03229974160206718, 'background': 0.01024485196188915, 'made': 0.06459948320413436, 'feder': 0.006388959877331971, 'direct': 0.005563591854901524, 'essenti': 0.04376094023505876, 'sex': 0.007991688643810436, 'gener': 0.00463263226165107, 'better': 0.016975046681378374, 'everyday': 0.02871088142405972, 'expo': 0.02153316106804479, 'classif': 0.08613264427217916, 'repres': 0.04589963280293757, 'met': 0.02871088142405972, 'complex': 0.02836074872376631, 'disciplin': 0.02642706131078224, 'vendor': 0.03577817531305903, 'interior': 0.10570824524312895, 'exterior': 0.1107419712070875, 'adapt': 0.020764119601328904, 'resolv': 0.013599891200870393, 'file': 0.04387889425186486, 'enough': 0.46511627906976744, 'showroom': 1.5503875968992247, 'pristin': 0.5813953488372093, 'parad': 2.3255813953488373, 'remodel': 2.3255813953488373, 'adgu': 2.3255813953488373})\n"
          ]
        }
      ],
      "source": [
        "tfidf_rdd_optimized = tfidf_optimized(corpus, idfs_val_optimized)\n",
        "\n",
        "tfidf_optimized_first= tfidf_rdd_optimized.first()\n",
        "print(tfidf_optimized_first)\n",
        "# for item in tfidf_rdd_optimized.toLocalIterator():\n",
        "#     print(f\"{item[0]}:\\n {item[1]}\")"
      ]
    },
    {
      "cell_type": "markdown",
      "metadata": {
        "id": "_7YXVMOHOoFe"
      },
      "source": [
        "### TF-IDF using pyspark ml module for distributed systems"
      ]
    },
    {
      "cell_type": "code",
      "execution_count": 96,
      "metadata": {
        "id": "A4z_NdlkT5KE"
      },
      "outputs": [],
      "source": [
        "corpus_df=spark.createDataFrame(corpus, [\"link_id\", \"tokens\"])"
      ]
    },
    {
      "cell_type": "code",
      "execution_count": 97,
      "metadata": {
        "id": "1MdZ-nq9QcL4"
      },
      "outputs": [],
      "source": [
        "count_vectorizer = CountVectorizer(inputCol=\"tokens\", outputCol=\"raw_features\")\n",
        "cv_model = count_vectorizer.fit(corpus_df)\n",
        "featurized_data = cv_model.transform(corpus_df)"
      ]
    },
    {
      "cell_type": "code",
      "execution_count": 98,
      "metadata": {
        "id": "RS3vwwC9WcM6",
        "colab": {
          "base_uri": "https://localhost:8080/"
        },
        "outputId": "a06ec7d0-f81a-4bef-ef5b-a51f46bc3b8f"
      },
      "outputs": [
        {
          "output_type": "stream",
          "name": "stdout",
          "text": [
            "+--------------------+--------------------+--------------------+\n",
            "|             link_id|              tokens|        raw_features|\n",
            "+--------------------+--------------------+--------------------+\n",
            "|https://www.linke...|[rock, roll, sush...|(9260,[0,1,4,5,6,...|\n",
            "|https://www.linke...|[schedul, prn, re...|(9260,[0,1,2,4,5,...|\n",
            "|https://www.linke...|[descript, introd...|(9260,[1,2,7,8,11...|\n",
            "|https://uk.linked...|[commerci, accoun...|(9260,[0,1,2,4,5,...|\n",
            "|https://www.linke...|[address, usa, ne...|(9260,[0,1,2,3,4,...|\n",
            "|https://www.linke...|[descript, restau...|(9260,[0,1,2,4,5,...|\n",
            "|https://www.linke...|[compani, descrip...|(9260,[0,1,2,4,5,...|\n",
            "|https://uk.linked...|[excit, opportun,...|(9260,[0,1,2,3,4,...|\n",
            "|https://www.linke...|[job, detail, job...|(9260,[2,4,5,11,1...|\n",
            "|https://www.linke...|[restaur, team, s...|(9260,[0,1,2,4,5,...|\n",
            "+--------------------+--------------------+--------------------+\n",
            "only showing top 10 rows\n",
            "\n"
          ]
        }
      ],
      "source": [
        "featurized_data.show(10, truncate=True)"
      ]
    },
    {
      "cell_type": "code",
      "execution_count": 99,
      "metadata": {
        "id": "Fqcz1DAFVo_q"
      },
      "outputs": [],
      "source": [
        "idf = IDF(inputCol=\"raw_features\", outputCol=\"features\")\n",
        "idf_model = idf.fit(featurized_data)\n",
        "rescaled_data = idf_model.transform(featurized_data)"
      ]
    },
    {
      "cell_type": "code",
      "execution_count": 100,
      "metadata": {
        "id": "ZteMCXugV10c",
        "colab": {
          "base_uri": "https://localhost:8080/"
        },
        "outputId": "c9355005-75c3-476a-96ea-0f39f3f520d2"
      },
      "outputs": [
        {
          "output_type": "stream",
          "name": "stdout",
          "text": [
            "+--------------------+--------------------+--------------------+--------------------+\n",
            "|             link_id|              tokens|        raw_features|            features|\n",
            "+--------------------+--------------------+--------------------+--------------------+\n",
            "|https://www.linke...|[rock, roll, sush...|(9260,[0,1,4,5,6,...|(9260,[0,1,4,5,6,...|\n",
            "|https://www.linke...|[schedul, prn, re...|(9260,[0,1,2,4,5,...|(9260,[0,1,2,4,5,...|\n",
            "|https://www.linke...|[descript, introd...|(9260,[1,2,7,8,11...|(9260,[1,2,7,8,11...|\n",
            "|https://uk.linked...|[commerci, accoun...|(9260,[0,1,2,4,5,...|(9260,[0,1,2,4,5,...|\n",
            "|https://www.linke...|[address, usa, ne...|(9260,[0,1,2,3,4,...|(9260,[0,1,2,3,4,...|\n",
            "|https://www.linke...|[descript, restau...|(9260,[0,1,2,4,5,...|(9260,[0,1,2,4,5,...|\n",
            "|https://www.linke...|[compani, descrip...|(9260,[0,1,2,4,5,...|(9260,[0,1,2,4,5,...|\n",
            "|https://uk.linked...|[excit, opportun,...|(9260,[0,1,2,3,4,...|(9260,[0,1,2,3,4,...|\n",
            "|https://www.linke...|[job, detail, job...|(9260,[2,4,5,11,1...|(9260,[2,4,5,11,1...|\n",
            "|https://www.linke...|[restaur, team, s...|(9260,[0,1,2,4,5,...|(9260,[0,1,2,4,5,...|\n",
            "+--------------------+--------------------+--------------------+--------------------+\n",
            "only showing top 10 rows\n",
            "\n"
          ]
        }
      ],
      "source": [
        "rescaled_data.show(10, truncate=True)"
      ]
    },
    {
      "cell_type": "markdown",
      "metadata": {
        "id": "sbMpjOxDenwJ"
      },
      "source": [
        "# Calculate similarity"
      ]
    },
    {
      "cell_type": "markdown",
      "metadata": {
        "id": "8Txj8oRkLVez"
      },
      "source": [
        "## Using sklearn for the sample dataset of 10 records"
      ]
    },
    {
      "cell_type": "code",
      "execution_count": 101,
      "metadata": {
        "id": "OF8wqDUuj3P7"
      },
      "outputs": [],
      "source": [
        "similarity_matrix = cosine_similarity(tfidf_matrix)\n",
        "similarity_matrix=pd.DataFrame(similarity_matrix, index=job_link_col_sample_list, columns=job_link_col_sample_list)"
      ]
    },
    {
      "cell_type": "code",
      "execution_count": 102,
      "metadata": {
        "id": "d9lLOGqQkAXW"
      },
      "outputs": [],
      "source": [
        "threshold = 0.5\n",
        "similar_items_dict = {col: [] for col in similarity_matrix.columns}\n",
        "\n",
        "for i in range(len(similarity_matrix)):\n",
        "    for j in range(i + 1, len(similarity_matrix)):\n",
        "        if similarity_matrix.iloc[i, j] >= threshold:\n",
        "            similar_items_dict[similarity_matrix.columns[i]].append(similarity_matrix.columns[j])\n"
      ]
    },
    {
      "cell_type": "code",
      "execution_count": 103,
      "metadata": {
        "id": "oxwtwAw6Zfte",
        "colab": {
          "base_uri": "https://localhost:8080/"
        },
        "outputId": "54d763b4-b483-48ad-8b26-f395393c1cb6"
      },
      "outputs": [
        {
          "output_type": "stream",
          "name": "stdout",
          "text": [
            "\n",
            "The most similar link jobs to 'https://www.linkedin.com/jobs/view/restaurant-team-leader-3582-highway-114-ft-worth-tx-unit-%231119-at-whataburger-3671804517'\n",
            "    based on the threshold 0.5 are:\n",
            "\n",
            " - https://www.linkedin.com/jobs/view/restaurant-team-leader-2859-n-germantown-pkwy-germantown-tn-unit-%231300-at-whataburger-3650208124\n"
          ]
        }
      ],
      "source": [
        "for target_link, similar in similar_items_dict.items():\n",
        "  if similar:\n",
        "    print(f\"\"\"\\nThe most similar link jobs to '{target_link}'\n",
        "    based on the threshold 0.5 are:\\n\"\"\")\n",
        "    for item in similar:\n",
        "      print(f\" - {item}\")"
      ]
    },
    {
      "cell_type": "markdown",
      "metadata": {
        "id": "phj-6AKkMBAy"
      },
      "source": [
        "## Using our own function for the custom optimized version of TF-IDF\n",
        "\n",
        "\n"
      ]
    },
    {
      "cell_type": "code",
      "execution_count": 104,
      "metadata": {
        "id": "sQPhxhCVg0JJ"
      },
      "outputs": [],
      "source": [
        "def cos_similar_dict(dict_a, dict_b):\n",
        "    \"\"\" Compute the cosine similarity between two dictionaries of tokens to TF-IDF value\n",
        "      Args:\n",
        "        dict_a (list of str): input dictionary of document tokens to its TF-IDF value\n",
        "        dict_b (list of str): input dictionary of document tokens to its TF-IDF value\n",
        "      Returns:\n",
        "        cosine similarity (float): cosine similarity between the two documents\n",
        "    \"\"\"\n",
        "\n",
        "    dot_product = sum([dict_a[t] * dict_b[t] for t in dict_a if t in dict_b])\n",
        "    norm_a = np.linalg.norm(list(dict_a.values()))\n",
        "    norm_b = np.linalg.norm(list(dict_b.values()))\n",
        "    if norm_a == 0 or norm_b == 0:\n",
        "        return 0.0\n",
        "\n",
        "    return dot_product / (norm_a * norm_b)"
      ]
    },
    {
      "cell_type": "code",
      "execution_count": 105,
      "metadata": {
        "id": "GQASOk1_gvE0"
      },
      "outputs": [],
      "source": [
        "def get_similar_items(tfidf_rdd, target_urls):\n",
        "    \"\"\" Retrieve a dictionary of similar items per each target url in input\n",
        "      Args:\n",
        "        tfidf_rdd (RDD): input RDD of job urls and the related dictionary of document tokens to its TF-IDF value\n",
        "        target_urls (list of str): list of job urls\n",
        "      Returns:\n",
        "        RDD: RDD with 2 similar items per each job url\n",
        "    \"\"\"\n",
        "\n",
        "    results = sc.emptyRDD()\n",
        "    target_vector={}\n",
        "    comparison_vector={}\n",
        "    similarities = {}\n",
        "\n",
        "    for target_url in target_urls:\n",
        "        for url, tfidf in tfidf_rdd.toLocalIterator():\n",
        "          if target_url == url:\n",
        "            target_vector=tfidf\n",
        "\n",
        "        for url, tfidf in tfidf_rdd.toLocalIterator():\n",
        "            if url != target_url:\n",
        "              comparison_vector=tfidf\n",
        "              similarity_score = cos_similar_dict(target_vector, comparison_vector)\n",
        "              similarities[url] = round(similarity_score,4)\n",
        "\n",
        "        sorted_similarities = sorted(similarities.items(), key=lambda x: x[1], reverse=True)\n",
        "        target_link_similar_items=(target_url, sorted_similarities[:2])\n",
        "        target_link_similar_items_rdd= sc.parallelize([target_link_similar_items])\n",
        "        results=results.union(target_link_similar_items_rdd)\n",
        "\n",
        "    return results\n"
      ]
    },
    {
      "cell_type": "code",
      "execution_count": 106,
      "metadata": {
        "id": "MVcVOEBkq_u9"
      },
      "outputs": [],
      "source": [
        "target_urls=[row.job_link for row in job_summary.select(\"job_link\").limit(10).collect()]\n",
        "result= get_similar_items(tfidf_rdd_optimized, target_urls)"
      ]
    },
    {
      "cell_type": "code",
      "execution_count": 107,
      "metadata": {
        "id": "PDmcpwy6C0ZE",
        "colab": {
          "base_uri": "https://localhost:8080/"
        },
        "outputId": "734d1b60-cdb0-4d04-a668-a160b527845d"
      },
      "outputs": [
        {
          "output_type": "stream",
          "name": "stdout",
          "text": [
            "\n",
            "The 2 most similar link jobs to https://www.linkedin.com/jobs/view/restaurant-manager-at-rock-n-roll-sushi-3805551344 are:\n",
            "  - https://au.linkedin.com/jobs/view/experienced-sushi-chef-at-an-authentic-japanese-restaurant-at-world-mode-holdings-3788943496\n",
            "  - https://www.linkedin.com/jobs/view/store-manager-in-training-at-texas-thrift-3775401861\n",
            "\n",
            "The 2 most similar link jobs to https://www.linkedin.com/jobs/view/med-surg-registered-nurse-rn-at-touchette-regional-hospital-3732389852 are:\n",
            "  - https://www.linkedin.com/jobs/view/registered-nurse-flex-at-magnolia-regional-health-center-3734113140\n",
            "  - https://www.linkedin.com/jobs/view/rn-4-tower-at-magnolia-regional-health-center-3648967253\n",
            "\n",
            "The 2 most similar link jobs to https://www.linkedin.com/jobs/view/registered-nurse-cath-lab-at-stonesprings-hospital-center-3799543261 are:\n",
            "  - https://www.linkedin.com/jobs/view/rn-cath-lab-sign-on-bonus-at-grand-strand-medical-center-%E2%80%93-hca-3801579946\n",
            "  - https://www.linkedin.com/jobs/view/registered-nurse-cardiac-cath-lab-at-texas-nursing-services-3787762317\n",
            "\n",
            "The 2 most similar link jobs to https://uk.linkedin.com/jobs/view/commercial-account-executive-at-the-recruit-lab-3805254225 are:\n",
            "  - https://uk.linkedin.com/jobs/view/insurance-broker-at-radius-3745514023\n",
            "  - https://uk.linkedin.com/jobs/view/claims-handler-at-liberty-towers-3803167335\n",
            "\n",
            "The 2 most similar link jobs to https://www.linkedin.com/jobs/view/store-manager-at-stop-shop-3782135496 are:\n",
            "  - https://www.linkedin.com/jobs/view/texas-roadhouse-kitchen-manager-at-texas-roadhouse-3742057904\n",
            "  - https://www.linkedin.com/jobs/view/texas-roadhouse-kitchen-manager-at-texas-roadhouse-3742062128\n",
            "\n",
            "The 2 most similar link jobs to https://www.linkedin.com/jobs/view/restaurant-team-leader-3582-highway-114-ft-worth-tx-unit-%231119-at-whataburger-3671804517 are:\n",
            "  - https://www.linkedin.com/jobs/view/restaurant-team-lead-1701-w-tennessee-st-tallahassee-fl-unit-%23912-at-whataburger-3664064371\n",
            "  - https://www.linkedin.com/jobs/view/restaurant-team-leader-up-to-%2418-hr-598-e-highway-290-ste-500-dripping-springs-tx-unit-%23-999-at-whataburger-3682506245\n",
            "\n",
            "The 2 most similar link jobs to https://www.linkedin.com/jobs/view/hair-stylist-meadow-brook-center-at-jobs-for-humanity-3786387856 are:\n",
            "  - https://www.linkedin.com/jobs/view/hair-stylist-valparaiso-us-30-at-jobs-for-humanity-3784883627\n",
            "  - https://www.linkedin.com/jobs/view/hair-stylist-powhatan-shoppes-at-southcreek-at-jobs-for-humanity-3789524508\n",
            "\n",
            "The 2 most similar link jobs to https://uk.linkedin.com/jobs/view/concession-store-manager-selfridges-at-linda-farrow-3796128638 are:\n",
            "  - https://www.linkedin.com/jobs/view/medical-technologist-at-staff-icons-llc-3803807420\n",
            "  - https://www.linkedin.com/jobs/view/for-eyes-store-manager-palo-alto-%23267-at-for-eyes-3802337725\n",
            "\n",
            "The 2 most similar link jobs to https://www.linkedin.com/jobs/view/material-handler-at-intelliswift-software-3789502416 are:\n",
            "  - https://www.linkedin.com/jobs/view/fabrication-specialist-at-animax-3786280298\n",
            "  - https://www.linkedin.com/jobs/view/quality-assurance-manager-at-the-judge-group-3784046684\n",
            "\n",
            "The 2 most similar link jobs to https://www.linkedin.com/jobs/view/restaurant-team-leader-2859-n-germantown-pkwy-germantown-tn-unit-%231300-at-whataburger-3650208124 are:\n",
            "  - https://www.linkedin.com/jobs/view/restaurant-team-leader-3582-highway-114-ft-worth-tx-unit-%231119-at-whataburger-3671804517\n",
            "  - https://www.linkedin.com/jobs/view/restaurant-team-lead-1701-w-tennessee-st-tallahassee-fl-unit-%23912-at-whataburger-3664064371\n"
          ]
        }
      ],
      "source": [
        "for item in result.toLocalIterator():\n",
        "  print(f\"\\nThe 2 most similar link jobs to {item[0]} are:\")\n",
        "  for link, similarity_score in item[1]:\n",
        "        print(f\"  - {link}\")"
      ]
    },
    {
      "cell_type": "markdown",
      "metadata": {
        "id": "dhK7kmoje-iO"
      },
      "source": [
        "## LSH"
      ]
    },
    {
      "cell_type": "markdown",
      "metadata": {
        "id": "Dp5oCa_dxuom"
      },
      "source": [
        "### LSH for a sample dataset of 10 records"
      ]
    },
    {
      "cell_type": "code",
      "execution_count": 108,
      "metadata": {
        "id": "nTlsGpV5TvcR"
      },
      "outputs": [],
      "source": [
        "corpus_sample_lsh=sample.collect()"
      ]
    },
    {
      "cell_type": "code",
      "source": [
        "mh = MinHashLSH(threshold=0.5, num_perm=10)\n",
        "minhashes = {}\n",
        "results = {}"
      ],
      "metadata": {
        "id": "Xz8eqf-J8kLe"
      },
      "execution_count": 109,
      "outputs": []
    },
    {
      "cell_type": "code",
      "execution_count": 110,
      "metadata": {
        "id": "7HRnBs6sVu9b",
        "colab": {
          "base_uri": "https://localhost:8080/"
        },
        "outputId": "d5e2898d-0ee2-4325-bdc2-e924d16b5b1d"
      },
      "outputs": [
        {
          "output_type": "stream",
          "name": "stdout",
          "text": [
            "\n",
            "The most similar link jobs to 'https://www.linkedin.com/jobs/view/restaurant-team-leader-3582-highway-114-ft-worth-tx-unit-%231119-at-whataburger-3671804517'\n",
            "      based on a threshold 0.5 are:\n",
            " - https://www.linkedin.com/jobs/view/restaurant-team-leader-2859-n-germantown-pkwy-germantown-tn-unit-%231300-at-whataburger-3650208124\n",
            "\n",
            "The most similar link jobs to 'https://www.linkedin.com/jobs/view/restaurant-team-leader-2859-n-germantown-pkwy-germantown-tn-unit-%231300-at-whataburger-3650208124'\n",
            "      based on a threshold 0.5 are:\n",
            " - https://www.linkedin.com/jobs/view/restaurant-team-leader-3582-highway-114-ft-worth-tx-unit-%231119-at-whataburger-3671804517\n"
          ]
        }
      ],
      "source": [
        "for link_id, tokens in corpus_sample_lsh:\n",
        "    minhash = MinHash(num_perm=10)\n",
        "    for token in set(tokens):\n",
        "        minhash.update(token.encode('utf8'))\n",
        "    mh.insert(link_id, minhash)\n",
        "    minhashes[link_id] = minhash\n",
        "\n",
        "for link_id, tokens in corpus_sample_lsh:\n",
        "    query_minhash = minhashes[link_id]\n",
        "    similar_docs = mh.query(query_minhash)\n",
        "    similar_docs = [doc for doc in similar_docs if doc != link_id][:2]\n",
        "    results[link_id] = similar_docs\n",
        "\n",
        "for link_id, similar in results.items():\n",
        "    if similar:\n",
        "      print(f\"\"\"\\nThe most similar link jobs to '{link_id}'\n",
        "      based on a threshold 0.5 are:\"\"\")\n",
        "      for item in similar:\n",
        "        print(f\" - {item}\")"
      ]
    },
    {
      "cell_type": "markdown",
      "metadata": {
        "id": "7J5FnBJmSe3n"
      },
      "source": [
        "### LSH using pyspark for distributed systems"
      ]
    },
    {
      "cell_type": "code",
      "source": [
        "lsh = MLLSH(inputCol=\"features\", outputCol=\"hashes\", numHashTables=10)\n",
        "model = lsh.fit(rescaled_data)"
      ],
      "metadata": {
        "id": "Yj8tPz90PVM0"
      },
      "execution_count": 111,
      "outputs": []
    },
    {
      "cell_type": "code",
      "execution_count": 112,
      "metadata": {
        "id": "OfxAEVjQTuVW",
        "colab": {
          "base_uri": "https://localhost:8080/"
        },
        "outputId": "40f977ea-1341-458d-930b-7cdb7cabfd4b"
      },
      "outputs": [
        {
          "output_type": "stream",
          "name": "stdout",
          "text": [
            "\n",
            "The most similar link jobs to 'https://www.linkedin.com/jobs/view/restaurant-manager-at-rock-n-roll-sushi-3805551344' are:\n",
            " - https://www.linkedin.com/jobs/view/general-manager-at-extract-juicery-3799189684\n",
            " - https://www.linkedin.com/jobs/view/sales-manager-at-lineage-3797884207\n",
            "\n",
            "The most similar link jobs to 'https://www.linkedin.com/jobs/view/med-surg-registered-nurse-rn-at-touchette-regional-hospital-3732389852' are:\n",
            " - https://www.linkedin.com/jobs/view/surgical-technologist-at-ssm-health-3707557565\n",
            " - https://www.linkedin.com/jobs/view/electroneurodiagnostic-technologist-at-ssm-health-3741459082\n",
            "\n",
            "The most similar link jobs to 'https://www.linkedin.com/jobs/view/registered-nurse-cath-lab-at-stonesprings-hospital-center-3799543261' are:\n",
            " - https://www.linkedin.com/jobs/view/rn-cath-lab-sign-on-bonus-at-grand-strand-medical-center-%E2%80%93-hca-3801579946\n",
            " - https://www.linkedin.com/jobs/view/texas-roadhouse-kitchen-manager-at-texas-roadhouse-3742056109\n",
            "\n",
            "The most similar link jobs to 'https://uk.linkedin.com/jobs/view/commercial-account-executive-at-the-recruit-lab-3805254225' are:\n",
            " - https://uk.linkedin.com/jobs/view/customer-service-advisor-at-mtrec-recruitment-and-training-3795831098\n",
            " - https://uk.linkedin.com/jobs/view/customer-service-advisor-at-mtrec-recruitment-and-training-3799656683\n",
            "\n",
            "The most similar link jobs to 'https://www.linkedin.com/jobs/view/store-manager-at-stop-shop-3782135496' are:\n",
            " - https://www.linkedin.com/jobs/view/aerie-store-team-leader-store-manager-us-at-american-eagle-outfitters-inc-3785857865\n",
            " - https://www.linkedin.com/jobs/view/ae-store-team-leader-store-manager-us-at-american-eagle-outfitters-inc-3744140391\n",
            "\n",
            "The most similar link jobs to 'https://www.linkedin.com/jobs/view/restaurant-team-leader-3582-highway-114-ft-worth-tx-unit-%231119-at-whataburger-3671804517' are:\n",
            " - https://www.linkedin.com/jobs/view/restaurant-team-leader-seq-scenic-hwy-n-north-rd-sw-snellville-ga-unit-%231367-at-whataburger-3678548501\n",
            " - https://www.linkedin.com/jobs/view/restaurant-team-leader-up-to-%2419-hr-3400-w-slaughter-ln-austin-tx-unit-%23-809-at-whataburger-3682503469\n",
            "\n",
            "The most similar link jobs to 'https://www.linkedin.com/jobs/view/hair-stylist-meadow-brook-center-at-jobs-for-humanity-3786387856' are:\n",
            " - https://www.linkedin.com/jobs/view/hair-stylist-valparaiso-us-30-at-jobs-for-humanity-3784883627\n",
            " - https://www.linkedin.com/jobs/view/hair-stylist-sunnybrook-at-jobs-for-humanity-3789528068\n",
            "\n",
            "The most similar link jobs to 'https://uk.linkedin.com/jobs/view/concession-store-manager-selfridges-at-linda-farrow-3796128638' are:\n",
            " - https://www.linkedin.com/jobs/view/store-manager-at-sbh-fashion-3694196275\n",
            " - https://www.linkedin.com/jobs/view/assistant-restaurant-manager-at-the-hari-group-3781415142\n",
            "\n",
            "The most similar link jobs to 'https://www.linkedin.com/jobs/view/material-handler-at-intelliswift-software-3789502416' are:\n",
            " - https://www.linkedin.com/jobs/view/material-handler-at-verdant-infotech-solutions-3768021785\n",
            " - https://www.linkedin.com/jobs/view/kitchen-manager-at-electric-3795348717\n",
            "\n",
            "The most similar link jobs to 'https://www.linkedin.com/jobs/view/restaurant-team-leader-2859-n-germantown-pkwy-germantown-tn-unit-%231300-at-whataburger-3650208124' are:\n",
            " - https://www.linkedin.com/jobs/view/restaurant-team-leader-%E2%80%93-1371-us-hwy-60-e-republic-mo-unit-%23-1332-at-whataburger-3633936467\n",
            " - https://www.linkedin.com/jobs/view/restaurant-team-leader-100-pottery-rd-commerce-ga-unit-%231304-at-whataburger-3706407431\n"
          ]
        }
      ],
      "source": [
        "for link in rescaled_data.limit(10).toLocalIterator():\n",
        "    features = link['features']\n",
        "    link_id = link['link_id']\n",
        "    similar_items = model.approxNearestNeighbors(dataset=rescaled_data, key=features, numNearestNeighbors=3)\n",
        "    print(f\"\\nThe most similar link jobs to '{link_id}' are:\")\n",
        "\n",
        "    for item in similar_items.collect():\n",
        "      if item['link_id'] != link_id:\n",
        "        print(f\" - {item['link_id']}\")"
      ]
    },
    {
      "cell_type": "markdown",
      "metadata": {
        "id": "uyAm1A2Ne7aI"
      },
      "source": [
        "## K-nn for the sample of 10 records"
      ]
    },
    {
      "cell_type": "code",
      "execution_count": 113,
      "metadata": {
        "id": "h4HISfK4Mwc-"
      },
      "outputs": [],
      "source": [
        "corpus_knn=sample.collect()"
      ]
    },
    {
      "cell_type": "code",
      "execution_count": 114,
      "metadata": {
        "id": "YYeQbW9Vw1um",
        "colab": {
          "base_uri": "https://localhost:8080/"
        },
        "outputId": "3067d5aa-8a87-4fd0-b7a5-a56ae1661f4a"
      },
      "outputs": [
        {
          "output_type": "stream",
          "name": "stdout",
          "text": [
            "\n",
            "The most similar link job to 'https://www.linkedin.com/jobs/view/restaurant-manager-at-rock-n-roll-sushi-3805551344' is:\n",
            "- https://www.linkedin.com/jobs/view/restaurant-team-leader-2859-n-germantown-pkwy-germantown-tn-unit-%231300-at-whataburger-3650208124 (Distance: 0.8413)\n",
            "\n",
            "The most similar link job to 'https://www.linkedin.com/jobs/view/med-surg-registered-nurse-rn-at-touchette-regional-hospital-3732389852' is:\n",
            "- https://www.linkedin.com/jobs/view/registered-nurse-cath-lab-at-stonesprings-hospital-center-3799543261 (Distance: 0.7846)\n",
            "\n",
            "The most similar link job to 'https://www.linkedin.com/jobs/view/registered-nurse-cath-lab-at-stonesprings-hospital-center-3799543261' is:\n",
            "- https://www.linkedin.com/jobs/view/med-surg-registered-nurse-rn-at-touchette-regional-hospital-3732389852 (Distance: 0.7846)\n",
            "\n",
            "The most similar link job to 'https://uk.linkedin.com/jobs/view/commercial-account-executive-at-the-recruit-lab-3805254225' is:\n",
            "- https://uk.linkedin.com/jobs/view/concession-store-manager-selfridges-at-linda-farrow-3796128638 (Distance: 0.8478)\n",
            "\n",
            "The most similar link job to 'https://www.linkedin.com/jobs/view/store-manager-at-stop-shop-3782135496' is:\n",
            "- https://www.linkedin.com/jobs/view/restaurant-team-leader-3582-highway-114-ft-worth-tx-unit-%231119-at-whataburger-3671804517 (Distance: 0.8582)\n",
            "\n",
            "The most similar link job to 'https://www.linkedin.com/jobs/view/restaurant-team-leader-3582-highway-114-ft-worth-tx-unit-%231119-at-whataburger-3671804517' is:\n",
            "- https://www.linkedin.com/jobs/view/restaurant-team-leader-2859-n-germantown-pkwy-germantown-tn-unit-%231300-at-whataburger-3650208124 (Distance: 0.0222)\n",
            "\n",
            "The most similar link job to 'https://www.linkedin.com/jobs/view/hair-stylist-meadow-brook-center-at-jobs-for-humanity-3786387856' is:\n",
            "- https://uk.linkedin.com/jobs/view/commercial-account-executive-at-the-recruit-lab-3805254225 (Distance: 0.8743)\n",
            "\n",
            "The most similar link job to 'https://uk.linkedin.com/jobs/view/concession-store-manager-selfridges-at-linda-farrow-3796128638' is:\n",
            "- https://uk.linkedin.com/jobs/view/commercial-account-executive-at-the-recruit-lab-3805254225 (Distance: 0.8478)\n",
            "\n",
            "The most similar link job to 'https://www.linkedin.com/jobs/view/material-handler-at-intelliswift-software-3789502416' is:\n",
            "- https://www.linkedin.com/jobs/view/restaurant-team-leader-3582-highway-114-ft-worth-tx-unit-%231119-at-whataburger-3671804517 (Distance: 0.9162)\n",
            "\n",
            "The most similar link job to 'https://www.linkedin.com/jobs/view/restaurant-team-leader-2859-n-germantown-pkwy-germantown-tn-unit-%231300-at-whataburger-3650208124' is:\n",
            "- https://www.linkedin.com/jobs/view/restaurant-team-leader-3582-highway-114-ft-worth-tx-unit-%231119-at-whataburger-3671804517 (Distance: 0.0222)\n"
          ]
        }
      ],
      "source": [
        "k = 2\n",
        "knn = NearestNeighbors(n_neighbors=k, metric='cosine')\n",
        "knn.fit(tfidf_matrix.toarray())\n",
        "\n",
        "for index in range(len(corpus_knn)):\n",
        "    distances, indices = knn.kneighbors(tfidf_matrix[index].reshape(1, -1), n_neighbors=k)\n",
        "\n",
        "    print(f\"\\nThe most similar link job to '{corpus_knn[index][0]}' is:\")\n",
        "    for i in range(1, k):\n",
        "        print(f\"- {corpus_knn[indices[0][i]][0]} (Distance: {distances[0][i]:.4f})\")"
      ]
    }
  ],
  "metadata": {
    "colab": {
      "provenance": [],
      "authorship_tag": "ABX9TyNPPhlEanMoNJWbz32B1N5j",
      "include_colab_link": true
    },
    "kernelspec": {
      "display_name": "Python 3",
      "name": "python3"
    },
    "language_info": {
      "name": "python"
    }
  },
  "nbformat": 4,
  "nbformat_minor": 0
}